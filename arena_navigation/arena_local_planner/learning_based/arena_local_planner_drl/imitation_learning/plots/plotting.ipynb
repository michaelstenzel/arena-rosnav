{
 "cells": [
  {
   "cell_type": "code",
   "execution_count": 18,
   "source": [
    "import numpy as np\n",
    "import os\n",
    "import seaborn as sns\n",
    "import pandas as pd\n",
    "\n",
    "arena_local_planner_drl_folder_path = '/home/michael/catkin_ws/src/arena-rosnav/arena_navigation/arena_local_planner/learning_based/arena_local_planner_drl'"
   ],
   "outputs": [],
   "metadata": {}
  },
  {
   "cell_type": "markdown",
   "source": [
    "# Evaluations of MPC training run"
   ],
   "metadata": {}
  },
  {
   "cell_type": "code",
   "execution_count": 19,
   "source": [
    "data = np.load(os.path.join(arena_local_planner_drl_folder_path, 'training_logs/train_eval_log/pretrained_ppo_mpc/evaluations.npz'))\n",
    "avg_success = np.sum(data['successes'], axis = 1) / 40\n",
    "avg_success"
   ],
   "outputs": [
    {
     "output_type": "execute_result",
     "data": {
      "text/plain": [
       "array([0.5  , 0.575, 0.35 , 0.55 , 0.425, 0.3  , 0.45 , 0.4  , 0.375,\n",
       "       0.4  , 0.15 , 0.2  , 0.25 , 0.175, 0.25 , 0.375, 0.2  , 0.2  ,\n",
       "       0.35 , 0.1  , 0.2  , 0.3  , 0.375, 0.35 , 0.3  , 0.225, 0.2  ,\n",
       "       0.225, 0.225, 0.225, 0.3  , 0.375, 0.125, 0.2  , 0.35 , 0.15 ,\n",
       "       0.225, 0.15 , 0.15 , 0.05 , 0.225, 0.15 , 0.125, 0.025, 0.175,\n",
       "       0.05 , 0.075, 0.025, 0.   , 0.05 , 0.025, 0.15 , 0.025, 0.05 ,\n",
       "       0.025, 0.   , 0.025, 0.025, 0.025, 0.025, 0.   , 0.05 , 0.025,\n",
       "       0.   , 0.025, 0.025])"
      ]
     },
     "metadata": {},
     "execution_count": 19
    }
   ],
   "metadata": {}
  },
  {
   "cell_type": "code",
   "execution_count": 27,
   "source": [
    "avg_success_df = pd.DataFrame(avg_success, columns=['avg_success'])\n",
    "avg_success_df"
   ],
   "outputs": [
    {
     "output_type": "execute_result",
     "data": {
      "text/plain": [
       "    avg_success\n",
       "0         0.500\n",
       "1         0.575\n",
       "2         0.350\n",
       "3         0.550\n",
       "4         0.425\n",
       "..          ...\n",
       "61        0.050\n",
       "62        0.025\n",
       "63        0.000\n",
       "64        0.025\n",
       "65        0.025\n",
       "\n",
       "[66 rows x 1 columns]"
      ],
      "text/html": [
       "<div>\n",
       "<style scoped>\n",
       "    .dataframe tbody tr th:only-of-type {\n",
       "        vertical-align: middle;\n",
       "    }\n",
       "\n",
       "    .dataframe tbody tr th {\n",
       "        vertical-align: top;\n",
       "    }\n",
       "\n",
       "    .dataframe thead th {\n",
       "        text-align: right;\n",
       "    }\n",
       "</style>\n",
       "<table border=\"1\" class=\"dataframe\">\n",
       "  <thead>\n",
       "    <tr style=\"text-align: right;\">\n",
       "      <th></th>\n",
       "      <th>avg_success</th>\n",
       "    </tr>\n",
       "  </thead>\n",
       "  <tbody>\n",
       "    <tr>\n",
       "      <th>0</th>\n",
       "      <td>0.500</td>\n",
       "    </tr>\n",
       "    <tr>\n",
       "      <th>1</th>\n",
       "      <td>0.575</td>\n",
       "    </tr>\n",
       "    <tr>\n",
       "      <th>2</th>\n",
       "      <td>0.350</td>\n",
       "    </tr>\n",
       "    <tr>\n",
       "      <th>3</th>\n",
       "      <td>0.550</td>\n",
       "    </tr>\n",
       "    <tr>\n",
       "      <th>4</th>\n",
       "      <td>0.425</td>\n",
       "    </tr>\n",
       "    <tr>\n",
       "      <th>...</th>\n",
       "      <td>...</td>\n",
       "    </tr>\n",
       "    <tr>\n",
       "      <th>61</th>\n",
       "      <td>0.050</td>\n",
       "    </tr>\n",
       "    <tr>\n",
       "      <th>62</th>\n",
       "      <td>0.025</td>\n",
       "    </tr>\n",
       "    <tr>\n",
       "      <th>63</th>\n",
       "      <td>0.000</td>\n",
       "    </tr>\n",
       "    <tr>\n",
       "      <th>64</th>\n",
       "      <td>0.025</td>\n",
       "    </tr>\n",
       "    <tr>\n",
       "      <th>65</th>\n",
       "      <td>0.025</td>\n",
       "    </tr>\n",
       "  </tbody>\n",
       "</table>\n",
       "<p>66 rows × 1 columns</p>\n",
       "</div>"
      ]
     },
     "metadata": {},
     "execution_count": 27
    }
   ],
   "metadata": {}
  },
  {
   "cell_type": "code",
   "execution_count": 53,
   "source": [
    "sns.set_theme(context='paper')"
   ],
   "outputs": [],
   "metadata": {}
  },
  {
   "cell_type": "code",
   "execution_count": 60,
   "source": [
    "sns.lineplot(x=avg_success_df.index, y='avg_success', data=avg_success_df, marker='o', linestyle='').set(title='Success rate of MPC-pretrained agent across evaluation runs', xlabel='Evaluation run', ylabel='Success rate')"
   ],
   "outputs": [
    {
     "output_type": "execute_result",
     "data": {
      "text/plain": [
       "[Text(0.5, 1.0, 'Success rate of MPC-pretrained agent across evaluation runs'),\n",
       " Text(0.5, 0, 'Evaluation run'),\n",
       " Text(0, 0.5, 'Success rate')]"
      ]
     },
     "metadata": {},
     "execution_count": 60
    },
    {
     "output_type": "display_data",
     "data": {
      "text/plain": [
       "<Figure size 432x288 with 1 Axes>"
      ],
      "image/png": "[encoded data removed]"
     },
     "metadata": {}
    }
   ],
   "metadata": {}
  },
  {
   "cell_type": "code",
   "execution_count": null,
   "source": [],
   "outputs": [],
   "metadata": {}
  }
 ],
 "metadata": {
  "orig_nbformat": 4,
  "language_info": {
   "name": "python",
   "version": "3.6.9",
   "mimetype": "text/x-python",
   "codemirror_mode": {
    "name": "ipython",
    "version": 3
   },
   "pygments_lexer": "ipython3",
   "nbconvert_exporter": "python",
   "file_extension": ".py"
  },
  "kernelspec": {
   "name": "python3",
   "display_name": "Python 3.6.9 64-bit ('rosnav': virtualenv)"
  },
  "interpreter": {
   "hash": "1c6c534f30ba0cc6fa7d4bb20017d0e1125116dedc9b0c28d9d422d74f89f394"
  }
 },
 "nbformat": 4,
 "nbformat_minor": 2
}